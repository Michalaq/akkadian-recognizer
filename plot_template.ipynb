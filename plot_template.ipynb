{
 "cells": [
  {
   "cell_type": "code",
   "execution_count": null,
   "metadata": {
    "collapsed": false
   },
   "outputs": [],
   "source": [
    "%matplotlib inline"
   ]
  },
  {
   "cell_type": "markdown",
   "metadata": {},
   "source": [
    "\n",
    "# Template Matching\n",
    "\n",
    "\n",
    "We use template matching to identify the occurrence of an image patch\n",
    "(in this case, a sub-image centered on a single coin). Here, we\n",
    "return a single match (the exact same coin), so the maximum value in the\n",
    "``match_template`` result corresponds to the coin location. The other coins\n",
    "look similar, and thus have local maxima; if you expect multiple matches, you\n",
    "should use a proper peak-finding function.\n",
    "\n",
    "The ``match_template`` function uses fast, normalized cross-correlation [1]_\n",
    "to find instances of the template in the image. Note that the peaks in the\n",
    "output of ``match_template`` correspond to the origin (i.e. top-left corner) of\n",
    "the template.\n",
    "\n",
    ".. [1] J. P. Lewis, \"Fast Normalized Cross-Correlation\", Industrial Light and\n",
    "       Magic.\n",
    "\n",
    "\n"
   ]
  },
  {
   "cell_type": "code",
   "execution_count": 5,
   "metadata": {
    "collapsed": true
   },
   "outputs": [],
   "source": [
    "import numpy as np\n",
    "import matplotlib.pyplot as plt\n",
    "\n",
    "from skimage import data\n",
    "from skimage.feature import match_template\n",
    "from skimage.io import imread\n",
    "\n",
    "import mpld3\n",
    "mpld3.enable_notebook()"
   ]
  },
  {
   "cell_type": "code",
   "execution_count": 6,
   "metadata": {
    "collapsed": false
   },
   "outputs": [],
   "source": [
    "image = imread('znaczki.png', as_grey=True)"
   ]
  },
  {
   "cell_type": "code",
   "execution_count": 7,
   "metadata": {
    "collapsed": true
   },
   "outputs": [],
   "source": [
    "coin = imread('znaczek2-mod.png', as_grey=True)"
   ]
  },
  {
   "cell_type": "code",
   "execution_count": null,
   "metadata": {
    "collapsed": false
   },
   "outputs": [],
   "source": [
    "result = match_template(image, coin)\n",
    "ij = np.unravel_index(np.argmax(result), result.shape)\n",
    "x, y = ij[::-1]\n",
    "\n",
    "fig = plt.figure(figsize=(8, 3))\n",
    "ax1 = plt.subplot(1, 3, 1)\n",
    "ax2 = plt.subplot(1, 3, 2, adjustable='box-forced')\n",
    "ax3 = plt.subplot(1, 3, 3, sharex=ax2, sharey=ax2, adjustable='box-forced')\n",
    "\n",
    "ax1.imshow(coin, cmap=plt.cm.gray)\n",
    "ax1.set_axis_off()\n",
    "ax1.set_title('template')\n",
    "\n",
    "ax2.imshow(image, cmap=plt.cm.gray)\n",
    "ax2.set_axis_off()\n",
    "ax2.set_title('image')\n",
    "# highlight matched region\n",
    "hcoin, wcoin = coin.shape\n",
    "rect = plt.Rectangle((x, y), wcoin, hcoin, edgecolor='r', facecolor='none')\n",
    "ax2.add_patch(rect)\n",
    "\n",
    "ax3.imshow(result)\n",
    "ax3.set_axis_off()\n",
    "ax3.set_title('`match_template`\\nresult')\n",
    "# highlight matched region\n",
    "ax3.plot(x, y, 'o', markeredgecolor='r', markerfacecolor='none', markersize=10)\n",
    "\n",
    "plt.show()"
   ]
  },
  {
   "cell_type": "code",
   "execution_count": null,
   "metadata": {
    "collapsed": true
   },
   "outputs": [],
   "source": []
  }
 ],
 "metadata": {
  "kernelspec": {
   "display_name": "Python 2",
   "language": "python",
   "name": "python2"
  },
  "language_info": {
   "codemirror_mode": {
    "name": "ipython",
    "version": 2
   },
   "file_extension": ".py",
   "mimetype": "text/x-python",
   "name": "python",
   "nbconvert_exporter": "python",
   "pygments_lexer": "ipython2",
   "version": "2.7.12"
  }
 },
 "nbformat": 4,
 "nbformat_minor": 0
}
